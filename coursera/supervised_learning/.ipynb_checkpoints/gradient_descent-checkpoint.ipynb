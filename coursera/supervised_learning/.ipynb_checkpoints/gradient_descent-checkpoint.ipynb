{
 "cells": [
  {
   "cell_type": "code",
   "execution_count": 1,
   "id": "913988c2",
   "metadata": {},
   "outputs": [],
   "source": [
    "import numpy as np\n",
    "import math"
   ]
  },
  {
   "cell_type": "code",
   "execution_count": 2,
   "id": "e65e384c",
   "metadata": {},
   "outputs": [],
   "source": [
    "x_train = np.array([1, 2])    #features\n",
    "y_train = np.array([300, 500])    #target variables"
   ]
  },
  {
   "cell_type": "code",
   "execution_count": 3,
   "id": "0d6764ac",
   "metadata": {},
   "outputs": [],
   "source": [
    "#compute cost funtion \n",
    "def compute_cost(x, y, w, b):\n",
    "    m = x.shape[0]\n",
    "    cost = 0\n",
    "    \n",
    "    for i in range(m):\n",
    "        f_wb = w * x + b\n",
    "        cost += ( f_wb - y[i] ) ** 2\n",
    "    total_cost = (1/ (2 * m) )* cost\n",
    "    return total_cost"
   ]
  },
  {
   "cell_type": "code",
   "execution_count": 4,
   "id": "36113826",
   "metadata": {},
   "outputs": [],
   "source": [
    "#compute gradient\n",
    "def compute_gradient(x, y, w, b):\n",
    "    m = x.shape[0]\n",
    "    dj_dw = 0\n",
    "    dj_db = 0\n",
    "    \n",
    "    for j in range(m):\n",
    "        fw_j = w * x[j] + b\n",
    "        dj_dw += (1/ m) * (fw_j - y[j]) * x[j]\n",
    "        dj_db += (1/ m) * (fw_j - y[j])\n",
    "        \n",
    "        return dj_dw, dj_db"
   ]
  },
  {
   "cell_type": "code",
   "execution_count": 5,
   "id": "b4a7cbc1",
   "metadata": {},
   "outputs": [],
   "source": [
    "#compute w, b using gradient descent function\n",
    "def gradient_descent(x, y, w_in, b_in, alpha, n_iter, cost_function, gradient_function):\n",
    "    w = w_in\n",
    "    b = b_in\n",
    "    j_hist = []\n",
    "    p_hist = []\n",
    "    \n",
    "    for i in range(n_iter):\n",
    "        \n",
    "        dj_dw, dj_db = gradient_function(x, y, w, b)\n",
    "        w -= alpha * dj_dw\n",
    "        b -= alpha * dj_db\n",
    "        \n",
    "        if i < 100000:\n",
    "            j_hist.append(cost_function(x, y, w, b))\n",
    "            p_hist.append([w, b])\n",
    "        \n",
    "        if i % math.ceil(n_iter / 10) == 0:\n",
    "            print(f\"Iteration {i:4}: Cost: {j_hist[-1]}\", \n",
    "                  f\"dj_dw: {dj_dw: 0.3e}, dj_db: {dj_db: 0.3e}\", \n",
    "                  f\"w: {w: 0.3e}, b: {b: 0.5e}\")\n",
    "            \n",
    "    return w, b, j_hist, p_hist"
   ]
  },
  {
   "cell_type": "code",
   "execution_count": 6,
   "id": "c655cd21",
   "metadata": {},
   "outputs": [
    {
     "name": "stdout",
     "output_type": "stream",
     "text": [
      "Iteration    0: Cost: [83804.5   83210.125] dj_dw: -1.500e+02, dj_db: -1.500e+02 w:  1.500e+00, b:  1.50000e+00\n",
      "Iteration 1000: Cost: [10001.28226825  6249.03854541] dj_dw: -6.476e-03, dj_db: -6.476e-03 w:  1.500e+02, b:  1.49994e+02\n",
      "Iteration 2000: Cost: [10000.00005535  6249.99995848] dj_dw: -2.796e-07, dj_db: -2.796e-07 w:  1.500e+02, b:  1.50000e+02\n",
      "Iteration 3000: Cost: [10000.  6250.] dj_dw: -1.211e-11, dj_db: -1.211e-11 w:  1.500e+02, b:  1.50000e+02\n",
      "Iteration 4000: Cost: [10000.  6250.] dj_dw: -1.421e-12, dj_db: -1.421e-12 w:  1.500e+02, b:  1.50000e+02\n",
      "Iteration 5000: Cost: [10000.  6250.] dj_dw: -1.421e-12, dj_db: -1.421e-12 w:  1.500e+02, b:  1.50000e+02\n",
      "Iteration 6000: Cost: [10000.  6250.] dj_dw: -1.421e-12, dj_db: -1.421e-12 w:  1.500e+02, b:  1.50000e+02\n",
      "Iteration 7000: Cost: [10000.  6250.] dj_dw: -1.421e-12, dj_db: -1.421e-12 w:  1.500e+02, b:  1.50000e+02\n",
      "Iteration 8000: Cost: [10000.  6250.] dj_dw: -1.421e-12, dj_db: -1.421e-12 w:  1.500e+02, b:  1.50000e+02\n",
      "Iteration 9000: Cost: [10000.  6250.] dj_dw: -1.421e-12, dj_db: -1.421e-12 w:  1.500e+02, b:  1.50000e+02\n",
      "(w, b): ( 150.0000,  150.0000)\n"
     ]
    }
   ],
   "source": [
    "w_init = 0\n",
    "b_init = 0\n",
    "\n",
    "n_iter = 10000\n",
    "alpha = 1.0e-2    #0.01\n",
    "w_final, b_final, j_hist, p_hist = gradient_descent(x_train, y_train, w_init, b_init, alpha, n_iter, compute_cost, compute_gradient)\n",
    "\n",
    "print(f\"(w, b): ({w_final: 8.4f}, {b_final: 8.4f})\")    #total 8 digits, 4 digits after decimal."
   ]
  },
  {
   "cell_type": "code",
   "execution_count": null,
   "id": "f46c0a20",
   "metadata": {},
   "outputs": [],
   "source": []
  }
 ],
 "metadata": {
  "kernelspec": {
   "display_name": "Python 3 (ipykernel)",
   "language": "python",
   "name": "python3"
  },
  "language_info": {
   "codemirror_mode": {
    "name": "ipython",
    "version": 3
   },
   "file_extension": ".py",
   "mimetype": "text/x-python",
   "name": "python",
   "nbconvert_exporter": "python",
   "pygments_lexer": "ipython3",
   "version": "3.10.9"
  }
 },
 "nbformat": 4,
 "nbformat_minor": 5
}
